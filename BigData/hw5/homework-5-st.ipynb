{
 "cells": [
  {
   "cell_type": "markdown",
   "metadata": {},
   "source": [
    "# Домашнее задание 5. Линейные модели"
   ]
  },
  {
   "cell_type": "code",
   "execution_count": 1,
   "metadata": {
    "collapsed": false
   },
   "outputs": [],
   "source": [
    "# Plotting config\n",
    "%matplotlib inline\n",
    "\n",
    "import numpy as np\n",
    "import pandas as pd\n",
    "import matplotlib.pyplot as plt"
   ]
  },
  {
   "cell_type": "markdown",
   "metadata": {},
   "source": [
    "Зачитываем результат 4 домашки"
   ]
  },
  {
   "cell_type": "code",
   "execution_count": 2,
   "metadata": {
    "collapsed": false,
    "scrolled": true
   },
   "outputs": [],
   "source": [
    "data = np.load(\"out_4.dat.npz\")\n",
    "users = data[\"users\"]\n",
    "X = data[\"data\"].reshape(1,)[0]"
   ]
  },
  {
   "cell_type": "markdown",
   "metadata": {},
   "source": [
    "Зачитываем категории пользователей"
   ]
  },
  {
   "cell_type": "code",
   "execution_count": 3,
   "metadata": {
    "collapsed": false
   },
   "outputs": [],
   "source": [
    "TRAINING_SET_URL = \"../twitter_train.csv\"\n",
    "df_users = pd.read_csv(TRAINING_SET_URL, sep=\",\", header=0, names=[\"twitter_id\", \"is_1\", \"is_2\", \"is_3\"], dtype={\"twitter_id\": str, \"is_1\": int, 'is_2': int, \"is_3\": int})\n",
    "df_users.set_index(\"twitter_id\", inplace=True)"
   ]
  },
  {
   "cell_type": "markdown",
   "metadata": {},
   "source": [
    "Формируем целевую переменную: Делаем join списка пользователей из ДЗ4 с обучающей выборкой."
   ]
  },
  {
   "cell_type": "code",
   "execution_count": 4,
   "metadata": {
    "collapsed": false
   },
   "outputs": [
    {
     "name": "stdout",
     "output_type": "stream",
     "text": [
      "Resulting training set: (3000x125399) feature matrix, 3000 target vector\n"
     ]
    }
   ],
   "source": [
    "def f(x):\n",
    "    if x[0] == 1:\n",
    "        return 1\n",
    "    if x[1] == 1:\n",
    "        return 2\n",
    "    if x[2] == 1:\n",
    "        return 3\n",
    "\n",
    "Y = df_users[['is_1', 'is_2', 'is_3']].apply(f, axis=1).values\n",
    "print \"Resulting training set: (%dx%d) feature matrix, %d target vector\" % (X.shape[0], X.shape[1], Y.shape[0])"
   ]
  },
  {
   "cell_type": "markdown",
   "metadata": {},
   "source": [
    "Чтобы исследовать, как ведут себя признаки, построим распределение количества ненулевых признаков у пользователей, чтобы убедиться, что он удовлетворяет закону Ципфа. Для этого построим гистограмму в логарифмических осях. [Подсказка](http://anokhin.github.io/img/sf1.png)"
   ]
  },
  {
   "cell_type": "code",
   "execution_count": 5,
   "metadata": {
    "collapsed": false
   },
   "outputs": [
    {
     "name": "stderr",
     "output_type": "stream",
     "text": [
      "/home/ospanoff/.pyenv/versions/python2/lib/python2.7/site-packages/matplotlib/collections.py:590: FutureWarning: elementwise comparison failed; returning scalar instead, but in the future will perform elementwise comparison\n",
      "  if self._edgecolors == str('face'):\n"
     ]
    },
    {
     "data": {
      "image/png": "[encoded data removed]",
      "text/plain": [
       "<matplotlib.figure.Figure at 0x7f3eb47d60d0>"
      ]
     },
     "metadata": {},
     "output_type": "display_data"
    }
   ],
   "source": [
    "def draw_log_hist(X):\n",
    "    \"\"\"Draw tokens histogram in log scales\"\"\"\n",
    "    features_counts = np.asarray((X > 0).sum(axis=0)).ravel()\n",
    "    tmp_x, tmp_y = np.unique(features_counts, return_counts=True)\n",
    "\n",
    "    plt.figure(figsize=(15, 15))\n",
    "    plt.xscale('log')\n",
    "    plt.yscale('log')\n",
    "    plt.xlim((tmp_x.min(), tmp_x.max() * 1.2))\n",
    "    plt.scatter(tmp_x, tmp_y, c='g', linewidths=0)\n",
    "    plt.show()\n",
    "    plt.show()\n",
    "    \n",
    "    return features_counts.astype(np.int)\n",
    "\n",
    "features_counts = draw_log_hist(X)"
   ]
  },
  {
   "cell_type": "markdown",
   "metadata": {},
   "source": [
    "Проведем отбор признаков. В самом простом случае просто удаляем признаки, имеющие ненулевое значение у менее, чем 100 пользователей."
   ]
  },
  {
   "cell_type": "code",
   "execution_count": 6,
   "metadata": {
    "collapsed": false
   },
   "outputs": [],
   "source": [
    "X1 = X.tocsc()[:, features_counts > 100].toarray()"
   ]
  },
  {
   "cell_type": "markdown",
   "metadata": {},
   "source": [
    "Вариант задания генерируется на основании вашего ника в техносфере."
   ]
  },
  {
   "cell_type": "code",
   "execution_count": 7,
   "metadata": {
    "collapsed": false
   },
   "outputs": [
    {
     "name": "stdout",
     "output_type": "stream",
     "text": [
      "My homework 5 algorithm is: Logistic regression with L1 regularization optimized by stochastic gradient descent\n"
     ]
    }
   ],
   "source": [
    "USER_NAME = \"a.ospanov\"\n",
    "OPTIMIZATION_ALGORITHMS = [\"stochastic gradient descent\", \"Newton method\"]\n",
    "REGULARIZATIONS = [\"L1\", \"L2\"]\n",
    "\n",
    "print \"My homework 5 algorithm is: Logistic regression with %s regularization optimized by %s\" % (\n",
    "    REGULARIZATIONS[hash(USER_NAME) % 2],\n",
    "    OPTIMIZATION_ALGORITHMS[hash(USER_NAME[::-1]) % 2]\n",
    ")"
   ]
  },
  {
   "cell_type": "markdown",
   "metadata": {},
   "source": [
    "Реализуем выбранный алгоритм"
   ]
  },
  {
   "cell_type": "code",
   "execution_count": 8,
   "metadata": {
    "collapsed": true
   },
   "outputs": [],
   "source": [
    "import sys"
   ]
  },
  {
   "cell_type": "code",
   "execution_count": 9,
   "metadata": {
    "collapsed": false
   },
   "outputs": [],
   "source": [
    "class LogisticRegression():\n",
    "    def __init__(self, C=1.0, max_iter=300, beta=0.5, eps=0.001):\n",
    "        self.C = C\n",
    "        self.max_iter = max_iter\n",
    "        self.beta = beta # for eta: eta = i ** (-beta)\n",
    "        self.eps = eps\n",
    "        \n",
    "\n",
    "    def sigmoid(self, z):\n",
    "        \"\"\"\n",
    "        Return Sigmoid of z\n",
    "        Args:\n",
    "            z : ndarray or scalar\n",
    "        \"\"\"\n",
    "        return 1.0 / (1.0 + np.exp(-z))\n",
    "\n",
    "\n",
    "    def fit(self, X, Y):\n",
    "        \"\"\"\n",
    "        Args:\n",
    "            X : ndarray (M x N)\n",
    "            Y : ndarray (M x 1)\n",
    "        \"\"\"\n",
    "        if Y.ndim == 1:\n",
    "            Y = Y[:, np.newaxis]\n",
    "            \n",
    "        X = np.hstack((np.ones((X.shape[0], 1)), X))\n",
    "\n",
    "        self.theta = np.zeros((X.shape[1], 1))\n",
    "#         self.theta = np.random.rand(X.shape[1], 1)\n",
    "\n",
    "        it = 1\n",
    "        while True:\n",
    "            h = self.sigmoid(X.dot(self.theta)) - Y\n",
    "            grad = (h.T.dot(X) + self.C).T / X.shape[0]\n",
    "            grad[0] = np.mean(h)\n",
    "\n",
    "            eta = it ** (-self.beta)\n",
    "            self.theta -= eta * grad\n",
    "#             sys.stdout.write(\"\\r%d, %f\" % (it, np.sum(np.abs(eta * grad))))\n",
    "#             sys.stdout.flush()\n",
    "            it += 1\n",
    "            if np.all(np.abs(eta * grad) < self.eps) or it > self.max_iter:\n",
    "                break\n",
    "                \n",
    "        return self\n",
    "\n",
    "    \n",
    "    def predict_proba(self, X):\n",
    "        X = np.hstack((np.ones((X.shape[0], 1)), X))\n",
    "        return self.sigmoid(X.dot(self.theta))\n",
    "    \n",
    "    \n",
    "    def predict(self, X):\n",
    "        return (self.predict_proba(X) > 0.5).astype(np.int)"
   ]
  },
  {
   "cell_type": "code",
   "execution_count": 10,
   "metadata": {
    "collapsed": true
   },
   "outputs": [],
   "source": [
    "class LogisticRegressionMulticlass():\n",
    "    def __init__(self, C=1.0, max_iter=300, beta=0.5, eps=0.001, multi_class='ovr'):\n",
    "        self.C = C\n",
    "        self.max_iter = max_iter\n",
    "        self.beta = beta # for eta: eta = i ** (-beta)\n",
    "        self.eps = eps\n",
    "        self.multi_class = multi_class\n",
    "\n",
    "\n",
    "    def fit(self, X, Y):\n",
    "        \"\"\"\n",
    "        Args:\n",
    "            X : ndarray (M x N)\n",
    "            Y : ndarray (M x 1)\n",
    "        \"\"\"\n",
    "        if Y.ndim == 1:\n",
    "            Y = Y[:, np.newaxis]\n",
    "        \n",
    "        self.ys = np.unique(Y)\n",
    "        self.clfrs = [LogisticRegression(C=self.C, max_iter=self.max_iter,\n",
    "                                    beta=self.beta, eps=self.eps) for i in self.ys]\n",
    "        \n",
    "        for i, y in enumerate(self.ys):\n",
    "            y_bin = np.zeros(Y.shape)\n",
    "            y_bin[np.where(Y == y)] = 1\n",
    "            self.clfrs[i].fit(X, y_bin)\n",
    "                \n",
    "        return self\n",
    "\n",
    "    \n",
    "    def predict_proba(self, X):\n",
    "        ans = np.zeros((X.shape[0], len(self.ys)))\n",
    "        for i in xrange(len(self.ys)):\n",
    "            ans[:, i] = self.clfrs[i].predict_proba(X).ravel()\n",
    "            \n",
    "        return ans / ans.sum(axis=1)[:, np.newaxis]\n",
    "\n",
    "    \n",
    "    def predict(self, X):\n",
    "        return self.ys[np.argmax(self.predict_proba(X), axis=1)]"
   ]
  },
  {
   "cell_type": "markdown",
   "metadata": {},
   "source": [
    "### Тест классификаторов"
   ]
  },
  {
   "cell_type": "code",
   "execution_count": 11,
   "metadata": {
    "collapsed": true
   },
   "outputs": [],
   "source": [
    "from sklearn.metrics import accuracy_score\n",
    "from sklearn.cross_validation import train_test_split\n",
    "from sklearn.linear_model import LogisticRegression as LG"
   ]
  },
  {
   "cell_type": "markdown",
   "metadata": {},
   "source": [
    "#### Двухклассовый случай"
   ]
  },
  {
   "cell_type": "code",
   "execution_count": 12,
   "metadata": {
    "collapsed": true
   },
   "outputs": [],
   "source": [
    "ind = np.append(np.where(Y == 1)[0], np.where(Y == 3)[0]) # выбраны классы 1 и 3, т.к. распределены одинаково\n",
    "Y1 = (Y[ind] - 1) / 2"
   ]
  },
  {
   "cell_type": "code",
   "execution_count": 13,
   "metadata": {
    "collapsed": true
   },
   "outputs": [],
   "source": [
    "x_train, x_test, y_train, y_test = train_test_split(X1[ind], Y1, test_size=0.33)"
   ]
  },
  {
   "cell_type": "code",
   "execution_count": 14,
   "metadata": {
    "collapsed": false
   },
   "outputs": [
    {
     "name": "stdout",
     "output_type": "stream",
     "text": [
      "CPU times: user 2.5 s, sys: 996 µs, total: 2.5 s\n",
      "Wall time: 2.5 s\n"
     ]
    },
    {
     "data": {
      "text/plain": [
       "<__main__.LogisticRegression instance at 0x7f3e8b3c9248>"
      ]
     },
     "execution_count": 14,
     "metadata": {},
     "output_type": "execute_result"
    }
   ],
   "source": [
    "lg = LogisticRegression()\n",
    "%time lg.fit(x_train, y_train)"
   ]
  },
  {
   "cell_type": "code",
   "execution_count": 15,
   "metadata": {
    "collapsed": false
   },
   "outputs": [
    {
     "data": {
      "text/plain": [
       "0.68028846153846156"
      ]
     },
     "execution_count": 15,
     "metadata": {},
     "output_type": "execute_result"
    }
   ],
   "source": [
    "accuracy_score(y_test, lg.predict(x_test))"
   ]
  },
  {
   "cell_type": "markdown",
   "metadata": {
    "collapsed": true
   },
   "source": [
    "sklearn-ский классификатор"
   ]
  },
  {
   "cell_type": "code",
   "execution_count": 16,
   "metadata": {
    "collapsed": false
   },
   "outputs": [
    {
     "name": "stdout",
     "output_type": "stream",
     "text": [
      "CPU times: user 604 ms, sys: 0 ns, total: 604 ms\n",
      "Wall time: 686 ms\n"
     ]
    },
    {
     "data": {
      "text/plain": [
       "LogisticRegression(C=1.0, class_weight=None, dual=False, fit_intercept=True,\n",
       "          intercept_scaling=1, max_iter=300, multi_class='ovr',\n",
       "          penalty='l2', random_state=None, solver='liblinear', tol=0.0001,\n",
       "          verbose=0)"
      ]
     },
     "execution_count": 16,
     "metadata": {},
     "output_type": "execute_result"
    }
   ],
   "source": [
    "lg_sk = LG(max_iter=300)\n",
    "%time lg_sk.fit(x_train, y_train)"
   ]
  },
  {
   "cell_type": "code",
   "execution_count": 17,
   "metadata": {
    "collapsed": false
   },
   "outputs": [
    {
     "data": {
      "text/plain": [
       "0.66947115384615385"
      ]
     },
     "execution_count": 17,
     "metadata": {},
     "output_type": "execute_result"
    }
   ],
   "source": [
    "accuracy_score(y_test, lg_sk.predict(x_test))"
   ]
  },
  {
   "cell_type": "markdown",
   "metadata": {},
   "source": [
    "#### Многоклассовый случай"
   ]
  },
  {
   "cell_type": "code",
   "execution_count": 18,
   "metadata": {
    "collapsed": true
   },
   "outputs": [],
   "source": [
    "x_train, x_test, y_train, y_test = train_test_split(X1, Y, test_size=0.33)"
   ]
  },
  {
   "cell_type": "code",
   "execution_count": 19,
   "metadata": {
    "collapsed": false
   },
   "outputs": [
    {
     "name": "stdout",
     "output_type": "stream",
     "text": [
      "CPU times: user 11.8 s, sys: 38.5 ms, total: 11.8 s\n",
      "Wall time: 11.8 s\n"
     ]
    },
    {
     "data": {
      "text/plain": [
       "<__main__.LogisticRegressionMulticlass instance at 0x7f3e8b3d1200>"
      ]
     },
     "execution_count": 19,
     "metadata": {},
     "output_type": "execute_result"
    }
   ],
   "source": [
    "lgm = LogisticRegressionMulticlass()\n",
    "%time lgm.fit(x_train, y_train)"
   ]
  },
  {
   "cell_type": "code",
   "execution_count": 20,
   "metadata": {
    "collapsed": false
   },
   "outputs": [
    {
     "data": {
      "text/plain": [
       "0.56262626262626259"
      ]
     },
     "execution_count": 20,
     "metadata": {},
     "output_type": "execute_result"
    }
   ],
   "source": [
    "accuracy_score(y_test, lgm.predict(x_test))"
   ]
  },
  {
   "cell_type": "markdown",
   "metadata": {},
   "source": [
    "sklearn-ский классификатор"
   ]
  },
  {
   "cell_type": "code",
   "execution_count": 21,
   "metadata": {
    "collapsed": false
   },
   "outputs": [
    {
     "name": "stdout",
     "output_type": "stream",
     "text": [
      "CPU times: user 2.62 s, sys: 3.87 ms, total: 2.63 s\n",
      "Wall time: 2.63 s\n"
     ]
    },
    {
     "data": {
      "text/plain": [
       "LogisticRegression(C=1.0, class_weight=None, dual=False, fit_intercept=True,\n",
       "          intercept_scaling=1, max_iter=300, multi_class='ovr',\n",
       "          penalty='l2', random_state=None, solver='liblinear', tol=0.0001,\n",
       "          verbose=0)"
      ]
     },
     "execution_count": 21,
     "metadata": {},
     "output_type": "execute_result"
    }
   ],
   "source": [
    "%time lg_sk.fit(x_train, y_train)"
   ]
  },
  {
   "cell_type": "code",
   "execution_count": 22,
   "metadata": {
    "collapsed": false
   },
   "outputs": [
    {
     "data": {
      "text/plain": [
       "0.52727272727272723"
      ]
     },
     "execution_count": 22,
     "metadata": {},
     "output_type": "execute_result"
    }
   ],
   "source": [
    "accuracy_score(y_test, lg_sk.predict(x_test))"
   ]
  },
  {
   "cell_type": "markdown",
   "metadata": {},
   "source": [
    "<br>"
   ]
  },
  {
   "cell_type": "markdown",
   "metadata": {},
   "source": [
    "Реализуем метрику качества, используемую в соревновании: площадь под ROC кривой"
   ]
  },
  {
   "cell_type": "code",
   "execution_count": 23,
   "metadata": {
    "collapsed": true
   },
   "outputs": [],
   "source": [
    "from sklearn.metrics import roc_auc_score, roc_curve"
   ]
  },
  {
   "cell_type": "code",
   "execution_count": 24,
   "metadata": {
    "collapsed": false
   },
   "outputs": [],
   "source": [
    "from sklearn.cross_validation import KFold"
   ]
  },
  {
   "cell_type": "code",
   "execution_count": 25,
   "metadata": {
    "collapsed": true
   },
   "outputs": [],
   "source": [
    "def auroc(y_true, y_prob):\n",
    "    ys = np.unique(y_true)\n",
    "    y_pred = ys[np.argmax(y_prob, axis=1)]\n",
    "    score = np.empty(ys.size)\n",
    "    for i, y in enumerate(ys):\n",
    "        y_bin, y_bin_p = np.zeros(y_true.shape), np.zeros(y_true.shape)\n",
    "        y_bin[np.where(y_true == y)] = 1\n",
    "        y_bin_p[np.where(y_pred == y)] = 1\n",
    "        score[i] = roc_auc_score(y_bin, y_bin_p)\n",
    "        \n",
    "    return score.tolist()"
   ]
  },
  {
   "cell_type": "markdown",
   "metadata": {},
   "source": [
    "Разделим выборку с помощью методики кросс-валидации для того, чтобы настроить параметр регуляризации $C$"
   ]
  },
  {
   "cell_type": "code",
   "execution_count": 26,
   "metadata": {
    "collapsed": false
   },
   "outputs": [
    {
     "name": "stdout",
     "output_type": "stream",
     "text": [
      "CPU times: user 4min 6s, sys: 87.5 ms, total: 4min 7s\n",
      "Wall time: 4min 6s\n",
      "3\n"
     ]
    }
   ],
   "source": [
    "C = [0.0, 0.01, 0.1, 1, 10, 100, 1000, 10000]\n",
    "\n",
    "def select_reg_parameter(C, X, Y, n_folds=3):\n",
    "    max_score = 0\n",
    "    auc = []\n",
    "    folds = KFold(X.shape[0], n_folds)\n",
    "    for c in C:\n",
    "        clf = LogisticRegressionMulticlass(C=c)\n",
    "        for tr_i, te_i in folds:\n",
    "            clf.fit(X[tr_i], Y[tr_i])\n",
    "            auc.append(auroc(Y[te_i], clf.predict_proba(X[te_i])))\n",
    "            \n",
    "        score = np.median(auc, axis=0)\n",
    "        if np.all(score > 0.5) and score.sum() > max_score:\n",
    "            max_score = score.sum()\n",
    "            best_C = c\n",
    "\n",
    "        auc = []\n",
    "            \n",
    "    return C.index(best_C)\n",
    "        \n",
    "\n",
    "%time index = select_reg_parameter(C, X1, Y)\n",
    "print index"
   ]
  },
  {
   "cell_type": "markdown",
   "metadata": {},
   "source": [
    "Выбираем наилучшее значение $C$, и классифицируем неизвестных пользователей и строим ROC-кривую"
   ]
  },
  {
   "cell_type": "code",
   "execution_count": 27,
   "metadata": {
    "collapsed": false
   },
   "outputs": [
    {
     "name": "stdout",
     "output_type": "stream",
     "text": [
      "CPU times: user 10.4 s, sys: 8.01 ms, total: 10.4 s\n",
      "Wall time: 10.4 s\n"
     ]
    },
    {
     "data": {
      "image/png": "[encoded data removed]",
      "text/plain": [
       "<matplotlib.figure.Figure at 0x7f3e99799b50>"
      ]
     },
     "metadata": {},
     "output_type": "display_data"
    },
    {
     "name": "stdout",
     "output_type": "stream",
     "text": [
      "Area under the ROC curve : 0.667619\n"
     ]
    },
    {
     "data": {
      "image/png": "[encoded data removed]",
      "text/plain": [
       "<matplotlib.figure.Figure at 0x7f3e98d1dfd0>"
      ]
     },
     "metadata": {},
     "output_type": "display_data"
    },
    {
     "name": "stdout",
     "output_type": "stream",
     "text": [
      "Area under the ROC curve : 0.555736\n"
     ]
    },
    {
     "data": {
      "image/png": "[encoded data removed]",
      "text/plain": [
       "<matplotlib.figure.Figure at 0x7f3e98d1dc50>"
      ]
     },
     "metadata": {},
     "output_type": "display_data"
    },
    {
     "name": "stdout",
     "output_type": "stream",
     "text": [
      "Area under the ROC curve : 0.664888\n"
     ]
    }
   ],
   "source": [
    "def predict(X, Y, test_size, C):\n",
    "    x_train, x_test, y_train, y_test = train_test_split(X, Y, test_size=test_size)\n",
    "    clf = LogisticRegressionMulticlass()\n",
    "    clf.fit(x_train, y_train)\n",
    "    y_prob = clf.predict_proba(x_test)\n",
    "\n",
    "    return y_test, y_prob\n",
    "\n",
    "\n",
    "def roc(Y_test, Y_prob, y_prob_ind, pos_label):\n",
    "    y_bin = np.zeros(Y_test.size)\n",
    "    y_bin[Y_test == pos_label] = 1\n",
    "    y_bin_p = 1 * (Y_prob[:, y_prob_ind] > 0.5)\n",
    "    fpr, tpr, _ = roc_curve(y_bin, y_bin_p)\n",
    "    roc_auc = roc_auc_score(y_bin, y_bin_p)\n",
    "    \n",
    "    return tpr, fpr, roc_auc\n",
    "\n",
    "\n",
    "def plot_roc_curve(tpr, fpr, roc_auc):\n",
    "    \"\"\"Plot ROC curve\"\"\"\n",
    "    plt.title(\"ROC\")\n",
    "    plt.xlabel(\"FPR\")\n",
    "    plt.ylabel(\"TPR\")\n",
    "    plt.plot(fpr, tpr, c='g')\n",
    "    plt.show()\n",
    "\n",
    "\n",
    "%time Y_test, Y_prob = predict(X1, Y, 0.3, C[index])\n",
    "\n",
    "tpr, fpr, roc_auc = roc(Y_test, Y_prob, 0, 1)\n",
    "plot_roc_curve(tpr, fpr, roc_auc)\n",
    "print \"Area under the ROC curve : %f\" % roc_auc\n",
    "\n",
    "tpr, fpr, roc_auc = roc(Y_test, Y_prob, 1, 2)\n",
    "plot_roc_curve(tpr, fpr, roc_auc)\n",
    "print \"Area under the ROC curve : %f\" % roc_auc\n",
    "\n",
    "tpr, fpr, roc_auc = roc(Y_test, Y_prob, 2, 3)\n",
    "plot_roc_curve(tpr, fpr, roc_auc)\n",
    "print \"Area under the ROC curve : %f\" % roc_auc"
   ]
  },
  {
   "cell_type": "markdown",
   "metadata": {},
   "source": [
    "С помощью полученной модели предсказываем категории для неизвестных пользователей из соревнования и загружаем на kaggle в нужном формате."
   ]
  }
 ],
 "metadata": {
  "kernelspec": {
   "display_name": "Python 2",
   "language": "python",
   "name": "python2"
  },
  "language_info": {
   "codemirror_mode": {
    "name": "ipython",
    "version": 2
   },
   "file_extension": ".py",
   "mimetype": "text/x-python",
   "name": "python",
   "nbconvert_exporter": "python",
   "pygments_lexer": "ipython2",
   "version": "2.7.10"
  }
 },
 "nbformat": 4,
 "nbformat_minor": 0
}
