{
 "cells": [
  {
   "cell_type": "markdown",
   "metadata": {},
   "source": [
    "## Одновыборочный случай"
   ]
  },
  {
   "cell_type": "code",
   "execution_count": 1,
   "metadata": {
    "collapsed": true
   },
   "outputs": [],
   "source": [
    "n <- 10\n",
    "mean <- 0\n",
    "sigma <- 3\n",
    "X <- rnorm(n=n, mean=mean, sd=sigma)"
   ]
  },
  {
   "cell_type": "markdown",
   "metadata": {},
   "source": [
    "Случай 1: Неизвестное мат. ожидание при известной дисперсии\n",
    "\n",
    "Доверительный интервал для $\\mu$:\n",
    "$(\\ \\bar{X} - \\frac{Z_{1-\\alpha/2}*\\sigma}{\\sqrt{n}}\\ ,\\ \\bar{X} + \\frac{Z_{1-\\alpha/2}*\\sigma}{\\sqrt{n}}\\ )$"
   ]
  },
  {
   "cell_type": "code",
   "execution_count": 2,
   "metadata": {
    "collapsed": false
   },
   "outputs": [
    {
     "data": {
      "text/html": [
       "<ol class=list-inline>\n",
       "\t<li>-2.35316512929724</li>\n",
       "\t<li>1.36560506453013</li>\n",
       "</ol>\n"
      ],
      "text/latex": [
       "\\begin{enumerate*}\n",
       "\\item -2.35316512929724\n",
       "\\item 1.36560506453013\n",
       "\\end{enumerate*}\n"
      ],
      "text/markdown": [
       "1. -2.35316512929724\n",
       "2. 1.36560506453013\n",
       "\n",
       "\n"
      ],
      "text/plain": [
       "[1] -2.353165  1.365605"
      ]
     },
     "execution_count": 2,
     "metadata": {},
     "output_type": "execute_result"
    }
   ],
   "source": [
    "confidence_interval_mju <- function(X, alpha, sigma, n) {\n",
    "    m <- mean(X)\n",
    "    q <- qnorm(1 - alpha / 2)\n",
    "    return (c(m - q * sigma / sqrt(n),\n",
    "              m + q * sigma / sqrt(n)))\n",
    "}\n",
    "\n",
    "confidence_interval_mju(X, 0.05, sigma, n)"
   ]
  },
  {
   "cell_type": "markdown",
   "metadata": {},
   "source": [
    "Случай 2: Неизвестная дисперсия при известном мат. ожидании\n",
    "\n",
    "Доверительный интервал для $\\sigma$: $(\\sqrt{\\frac{\\sum_{i=1}^{n}(X_i-\\mu)^2}{\\chi^2_{1-\\alpha/2, n}}},\\sqrt{\\ \\frac{\\sum_{i=1}^{n}(X_i-\\mu)^2}{\\chi^2_{\\alpha/2, n}}})$"
   ]
  },
  {
   "cell_type": "code",
   "execution_count": 3,
   "metadata": {
    "collapsed": false
   },
   "outputs": [
    {
     "data": {
      "text/html": [
       "<ol class=list-inline>\n",
       "\t<li>2.42702817243145</li>\n",
       "\t<li>6.09584837796095</li>\n",
       "</ol>\n"
      ],
      "text/latex": [
       "\\begin{enumerate*}\n",
       "\\item 2.42702817243145\n",
       "\\item 6.09584837796095\n",
       "\\end{enumerate*}\n"
      ],
      "text/markdown": [
       "1. 2.42702817243145\n",
       "2. 6.09584837796095\n",
       "\n",
       "\n"
      ],
      "text/plain": [
       "[1] 2.427028 6.095848"
      ]
     },
     "execution_count": 3,
     "metadata": {},
     "output_type": "execute_result"
    }
   ],
   "source": [
    "confidence_interval_sigma <- function(X, alpha, mju, n) {\n",
    "    ch <- sum((X - mju) ** 2)\n",
    "    q1 <- qchisq(1 - alpha / 2, df = n)\n",
    "    q2 <- qchisq(alpha / 2, df = n)\n",
    "    return (c(sqrt(ch / q1),\n",
    "              sqrt(ch / q2)))\n",
    "}\n",
    "\n",
    "confidence_interval_sigma(X, 0.05, mean, n)"
   ]
  },
  {
   "cell_type": "markdown",
   "metadata": {},
   "source": [
    "Случай 3: Неизвестная дисперсия при неизвестном мат. ожидании\n",
    "\n",
    "Доверительный интервал для $\\sigma$, $\\mu$ как выборочное среднее:\n",
    "$(\\sqrt{\\frac{\\sum_{i=1}^{n}(X_i-\\bar{X})^2}{\\chi^2_{1-\\alpha/2, n-1}}},\\sqrt{\\ \\frac{\\sum_{i=1}^{n}(X_i-\\bar{X})^2}{\\chi^2_{\\alpha/2, n-1}}})$"
   ]
  },
  {
   "cell_type": "code",
   "execution_count": 4,
   "metadata": {
    "collapsed": false
   },
   "outputs": [
    {
     "data": {
      "text/html": [
       "<ol class=list-inline>\n",
       "\t<li>2.4928928092689</li>\n",
       "\t<li>6.61648379128674</li>\n",
       "</ol>\n"
      ],
      "text/latex": [
       "\\begin{enumerate*}\n",
       "\\item 2.4928928092689\n",
       "\\item 6.61648379128674\n",
       "\\end{enumerate*}\n"
      ],
      "text/markdown": [
       "1. 2.4928928092689\n",
       "2. 6.61648379128674\n",
       "\n",
       "\n"
      ],
      "text/plain": [
       "[1] 2.492893 6.616484"
      ]
     },
     "execution_count": 4,
     "metadata": {},
     "output_type": "execute_result"
    }
   ],
   "source": [
    "confidence_interval_sm <- function(X, alpha, n) {\n",
    "    ch <- sum((X - mean(X)) ** 2)\n",
    "    q1 <- qchisq(1 - alpha / 2, df = n - 1)\n",
    "    q2 <- qchisq(alpha / 2, df = n - 1)\n",
    "    return (c(sqrt(ch / q1),\n",
    "              sqrt(ch / q2)))\n",
    "}\n",
    "\n",
    "confidence_interval_sm(X, 0.05, n)"
   ]
  },
  {
   "cell_type": "markdown",
   "metadata": {},
   "source": [
    "Случай 4: Неизвестное мат. ожидание при неизвестной дисперсии\n",
    "\n",
    "Доверительный интервал для $\\mu$, где $\\sigma$ как выборочная дисперсия: $(\\bar{X} - \\frac{t_{1-\\alpha/2, n-1}*S}{\\sqrt{n}}, \\frac{t_{1-\\alpha/2, n-1}*S}{\\sqrt{n}} + \\bar{X} )$, где ${S}={\\sqrt{\\frac{1}{n-1}*\\sum_{i=1}^{n}(X_i-\\bar{X})^2}}$"
   ]
  },
  {
   "cell_type": "code",
   "execution_count": 5,
   "metadata": {
    "collapsed": false
   },
   "outputs": [
    {
     "data": {
      "text/html": [
       "<ol class=list-inline>\n",
       "\t<li>-9.89017321676061</li>\n",
       "\t<li>8.9026131519935</li>\n",
       "</ol>\n"
      ],
      "text/latex": [
       "\\begin{enumerate*}\n",
       "\\item -9.89017321676061\n",
       "\\item 8.9026131519935\n",
       "\\end{enumerate*}\n"
      ],
      "text/markdown": [
       "1. -9.89017321676061\n",
       "2. 8.9026131519935\n",
       "\n",
       "\n"
      ],
      "text/plain": [
       "[1] -9.890173  8.902613"
      ]
     },
     "execution_count": 5,
     "metadata": {},
     "output_type": "execute_result"
    }
   ],
   "source": [
    "confidence_interval_ms <- function(X, alpha, n) {\n",
    "    S <- var(X)\n",
    "    m <- mean(X)\n",
    "    t <- qt(1 - alpha / 2, df = n - 1)\n",
    "    return (c(m - t * S / sqrt(n),\n",
    "              m + t * S / sqrt(n)))\n",
    "}\n",
    "\n",
    "confidence_interval_ms(X, 0.05, n)"
   ]
  },
  {
   "cell_type": "markdown",
   "metadata": {},
   "source": [
    "## Двувыборочный случай"
   ]
  },
  {
   "cell_type": "code",
   "execution_count": 6,
   "metadata": {
    "collapsed": true
   },
   "outputs": [],
   "source": [
    "n <- 10\n",
    "mean <- 0\n",
    "sigma1 <- 3\n",
    "sigma2 <- 4\n",
    "X <- rnorm(n=n, mean=mean, sd=sigma1)\n",
    "Y <- rnorm(n=n, mean=mean, sd=sigma2)"
   ]
  },
  {
   "cell_type": "markdown",
   "metadata": {},
   "source": [
    "Случай 1: Неизвестная разница мат. ожиданий при известных дисперсиях\n",
    "\n",
    "Тогда получаем доверительный интервал для $\\mu_1$ - $\\mu_2$  в интервале: $$(\\ \\bar{X}-\\bar{Y}-Z_{1-\\alpha/2}*\\sqrt{\\sigma_1^2/n_1+\\sigma_2^2/n_2},\\ \\bar{X}-\\bar{Y}+Z_{1-\\alpha/2}*\\sqrt{\\sigma_1^2/n_1+\\sigma_2^2/n_2}\\ )$$"
   ]
  },
  {
   "cell_type": "code",
   "execution_count": 7,
   "metadata": {
    "collapsed": false
   },
   "outputs": [
    {
     "data": {
      "text/html": [
       "<ol class=list-inline>\n",
       "\t<li>-4.01097224577649</li>\n",
       "\t<li>-0.731325207154265</li>\n",
       "</ol>\n"
      ],
      "text/latex": [
       "\\begin{enumerate*}\n",
       "\\item -4.01097224577649\n",
       "\\item -0.731325207154265\n",
       "\\end{enumerate*}\n"
      ],
      "text/markdown": [
       "1. -4.01097224577649\n",
       "2. -0.731325207154265\n",
       "\n",
       "\n"
      ],
      "text/plain": [
       "[1] -4.0109722 -0.7313252"
      ]
     },
     "execution_count": 7,
     "metadata": {},
     "output_type": "execute_result"
    }
   ],
   "source": [
    "confidence_interval_mdiff <- function(X, Y, s1, s2, n1, n2, alpha) {\n",
    "    mx <- mean(X)\n",
    "    my <- mean(Y)\n",
    "    z <- qnorm(1 - alpha / 2)\n",
    "    s <- sqrt(s1 / n1 + s2 / n2)\n",
    "    return (c(mx - my - z * s,\n",
    "              mx - my + z * s))\n",
    "}\n",
    "\n",
    "confidence_interval_mdiff(X, Y, sigma1, sigma2, n, n, 0.05)"
   ]
  },
  {
   "cell_type": "markdown",
   "metadata": {},
   "source": [
    "Случай 2: Неизвестная разница мат. ожиданий при неизвестных, но равных дисперсиях\n",
    "\n",
    "Тогда получаем доверительный интервал для $\\mu_1$ - $\\mu_2$  в интервале: $$(\\bar{X} - \\bar{Y} - t_{1-\\alpha/2, n_1 + n_2 - 2}*S*\\sqrt{1/n_1 + 1/n_2}, \\bar{X} - \\bar{Y} - t_{\\alpha/2, n_1 + n_2 - 2}*S*\\sqrt{1/n_1 + 1/n_2})$$, при\n",
    "$$S=\\sqrt{\\frac{\\sum_{i=1}^{n1}(X_i-\\bar{X})^2 + \\sum_{i=1}^{n2}(Y_i-\\bar{Y})^2}{n1+n2-2}}$$"
   ]
  },
  {
   "cell_type": "code",
   "execution_count": 8,
   "metadata": {
    "collapsed": false
   },
   "outputs": [
    {
     "data": {
      "text/html": [
       "<ol class=list-inline>\n",
       "\t<li>-4.8673714128554</li>\n",
       "\t<li>0.125073959924644</li>\n",
       "</ol>\n"
      ],
      "text/latex": [
       "\\begin{enumerate*}\n",
       "\\item -4.8673714128554\n",
       "\\item 0.125073959924644\n",
       "\\end{enumerate*}\n"
      ],
      "text/markdown": [
       "1. -4.8673714128554\n",
       "2. 0.125073959924644\n",
       "\n",
       "\n"
      ],
      "text/plain": [
       "[1] -4.867371  0.125074"
      ]
     },
     "execution_count": 8,
     "metadata": {},
     "output_type": "execute_result"
    }
   ],
   "source": [
    "confidence_interval_mdiff_eq <- function(X, Y, n1, n2, alpha) {\n",
    "    mx <- mean(X)\n",
    "    my <- mean(Y)\n",
    "    t1 <- qt(1 - alpha / 2, df = n1 + n2 - 2)\n",
    "    t2 <- qt(alpha / 2, df = n1 + n2 - 2)\n",
    "    s <- sqrt(sum((X - mean(X)) ** 2) + sum((Y - mean(Y)) ** 2)) / sqrt(n1 + n2 - 2)\n",
    "    c <- sqrt(1 / n1 + 1 / n2)\n",
    "    return (c(mx - my - t1 * s * c,\n",
    "              mx - my - t2 * s * c))\n",
    "}\n",
    "\n",
    "confidence_interval_mdiff_eq(X, Y, n, n, 0.05)"
   ]
  },
  {
   "cell_type": "markdown",
   "metadata": {},
   "source": [
    "Случай 3: Неизвестная разница мат. ожиданий при неизвестных, но не равных дисперсиях\n",
    "\n",
    "Тогда получаем доверительный интервал для $\\mu_1$ - $\\mu_2$  в интервале:\n",
    "$$(\\bar{X} - \\bar{Y} - t_{1-\\alpha/2, k}*T, \\bar{X} - \\bar{Y} - t_{\\alpha/2, k}*T)$$\n",
    "$$T = \\sqrt{s_1^2/n_1+s_2^2/n_2}$$\n",
    "$$k=\\frac{(s_1^2/n_1+s_2^2/n_2)^2}{(s_1^2/n_1)^2/(n_1-1)+(s_2^2/n_2)^2/(n_2-1)}$$\n",
    "$$s_1^2=\\frac{1}{n_1-1}*\\sum_{i=1}^{n_1}(X_i-\\bar{X})^2$$\n",
    "$$s_2^2=\\frac{1}{n_2-1}*\\sum_{i=1}^{n_2}(Y_i-\\bar{Y})^2$$"
   ]
  },
  {
   "cell_type": "code",
   "execution_count": 9,
   "metadata": {
    "collapsed": false
   },
   "outputs": [
    {
     "data": {
      "text/html": [
       "<ol class=list-inline>\n",
       "\t<li>-9.27371427282315</li>\n",
       "\t<li>4.53141681989239</li>\n",
       "</ol>\n"
      ],
      "text/latex": [
       "\\begin{enumerate*}\n",
       "\\item -9.27371427282315\n",
       "\\item 4.53141681989239\n",
       "\\end{enumerate*}\n"
      ],
      "text/markdown": [
       "1. -9.27371427282315\n",
       "2. 4.53141681989239\n",
       "\n",
       "\n"
      ],
      "text/plain": [
       "[1] -9.273714  4.531417"
      ]
     },
     "execution_count": 9,
     "metadata": {},
     "output_type": "execute_result"
    }
   ],
   "source": [
    "confidence_interval_mdiff_neq <- function(X, Y, n1, n2, alpha) {\n",
    "    mx <- mean(X)\n",
    "    my <- mean(Y)\n",
    "    k <- (var(X) ** 2 / n1 + var(Y) ** 2 / n2) ** 2\n",
    "    k <- k / ((var(X) ** 2 / n1) ** 2 / (n1 - 1) +\n",
    "              (var(Y) ** 2 / n2) ** 2 / (n2 - 1))\n",
    "    t1 <- qt(1 - alpha / 2, df = k)\n",
    "    t2 <- qt(alpha / 2, df = k)\n",
    "    t <- sqrt(var(X) ** 2 / n1 + var(Y) ** 2 / n2)\n",
    "    return (c(mx - my - t1 * t,\n",
    "              mx - my - t2 * t))\n",
    "}\n",
    "\n",
    "confidence_interval_mdiff_neq(X, Y, n, n, 0.05)"
   ]
  },
  {
   "cell_type": "markdown",
   "metadata": {},
   "source": [
    "### Проверка гипотез про равенство дисперсий"
   ]
  },
  {
   "cell_type": "markdown",
   "metadata": {},
   "source": [
    "Сначала считаем выборочные дисперсии:\n",
    "$$s_1^2=\\frac{1}{n_1-1}*\\sum_{i=1}^{n_1}(X_i-\\bar{X})^2$$\n",
    "$$s_2^2=\\frac{1}{n_2-1}*\\sum_{i=1}^{n_2}(Y_i-\\bar{Y})^2$$\n",
    "\n",
    "Далее строим статистику: $$F=s_1^2/s_2^2 \\sim F(n-1, m-1)$$"
   ]
  },
  {
   "cell_type": "code",
   "execution_count": 10,
   "metadata": {
    "collapsed": false,
    "scrolled": true
   },
   "outputs": [
    {
     "data": {
      "text/html": [
       "TRUE"
      ],
      "text/latex": [
       "TRUE"
      ],
      "text/markdown": [
       "TRUE"
      ],
      "text/plain": [
       "[1] TRUE"
      ]
     },
     "execution_count": 10,
     "metadata": {},
     "output_type": "execute_result"
    }
   ],
   "source": [
    "hypothesis_check <- function(X, Y, n, m) {\n",
    "    return (c(df(var(X) / var(Y), df1=n, df2=m) > 0.05))\n",
    "}\n",
    "hypothesis_check(X, Y, n, n)"
   ]
  },
  {
   "cell_type": "markdown",
   "metadata": {},
   "source": [
    "## Реализация функций"
   ]
  },
  {
   "cell_type": "markdown",
   "metadata": {},
   "source": [
    "Пункт 1"
   ]
  },
  {
   "cell_type": "code",
   "execution_count": 11,
   "metadata": {
    "collapsed": false
   },
   "outputs": [
    {
     "data": {
      "text/html": [
       "<ol class=list-inline>\n",
       "\t<li>-2.52633078063918</li>\n",
       "\t<li>1.19243941318818</li>\n",
       "</ol>\n"
      ],
      "text/latex": [
       "\\begin{enumerate*}\n",
       "\\item -2.52633078063918\n",
       "\\item 1.19243941318818\n",
       "\\end{enumerate*}\n"
      ],
      "text/markdown": [
       "1. -2.52633078063918\n",
       "2. 1.19243941318818\n",
       "\n",
       "\n"
      ],
      "text/plain": [
       "[1] -2.526331  1.192439"
      ]
     },
     "execution_count": 11,
     "metadata": {},
     "output_type": "execute_result"
    }
   ],
   "source": [
    "confidence_interval_m <- function(X, alpha, disp=NULL) {\n",
    "    if (is.null(disp)) {\n",
    "        confidence_interval_ms(X, alpha, length(X))\n",
    "    } else {\n",
    "        confidence_interval_mju(X, alpha, disp, length(X))\n",
    "    }\n",
    "}\n",
    "confidence_interval_m(X, 0.05, 3)"
   ]
  },
  {
   "cell_type": "code",
   "execution_count": 12,
   "metadata": {
    "collapsed": false
   },
   "outputs": [
    {
     "data": {
      "text/html": [
       "<ol class=list-inline>\n",
       "\t<li>-4.54796042083895</li>\n",
       "\t<li>3.21406905338795</li>\n",
       "</ol>\n"
      ],
      "text/latex": [
       "\\begin{enumerate*}\n",
       "\\item -4.54796042083895\n",
       "\\item 3.21406905338795\n",
       "\\end{enumerate*}\n"
      ],
      "text/markdown": [
       "1. -4.54796042083895\n",
       "2. 3.21406905338795\n",
       "\n",
       "\n"
      ],
      "text/plain": [
       "[1] -4.547960  3.214069"
      ]
     },
     "execution_count": 12,
     "metadata": {},
     "output_type": "execute_result"
    }
   ],
   "source": [
    "confidence_interval_m(X, 0.05)"
   ]
  },
  {
   "cell_type": "markdown",
   "metadata": {},
   "source": [
    "Пункт 2"
   ]
  },
  {
   "cell_type": "code",
   "execution_count": 13,
   "metadata": {
    "collapsed": false
   },
   "outputs": [
    {
     "data": {
      "text/html": [
       "<ol class=list-inline>\n",
       "\t<li>2.99139418892416</li>\n",
       "\t<li>7.51333899685508</li>\n",
       "</ol>\n"
      ],
      "text/latex": [
       "\\begin{enumerate*}\n",
       "\\item 2.99139418892416\n",
       "\\item 7.51333899685508\n",
       "\\end{enumerate*}\n"
      ],
      "text/markdown": [
       "1. 2.99139418892416\n",
       "2. 7.51333899685508\n",
       "\n",
       "\n"
      ],
      "text/plain": [
       "[1] 2.991394 7.513339"
      ]
     },
     "execution_count": 13,
     "metadata": {},
     "output_type": "execute_result"
    }
   ],
   "source": [
    "confidence_interval_d <- function(X, alpha, mean=NULL) {\n",
    "    if (is.null(mean)) {\n",
    "        confidence_interval_sm(X, alpha, length(X))\n",
    "    } else {\n",
    "        confidence_interval_sigma(X, alpha, mean, length(X))\n",
    "    }\n",
    "}\n",
    "confidence_interval_d(X, 0.05, 3)"
   ]
  },
  {
   "cell_type": "code",
   "execution_count": 14,
   "metadata": {
    "collapsed": false
   },
   "outputs": [
    {
     "data": {
      "text/html": [
       "<ol class=list-inline>\n",
       "\t<li>1.60212228079959</li>\n",
       "\t<li>4.25225507617341</li>\n",
       "</ol>\n"
      ],
      "text/latex": [
       "\\begin{enumerate*}\n",
       "\\item 1.60212228079959\n",
       "\\item 4.25225507617341\n",
       "\\end{enumerate*}\n"
      ],
      "text/markdown": [
       "1. 1.60212228079959\n",
       "2. 4.25225507617341\n",
       "\n",
       "\n"
      ],
      "text/plain": [
       "[1] 1.602122 4.252255"
      ]
     },
     "execution_count": 14,
     "metadata": {},
     "output_type": "execute_result"
    }
   ],
   "source": [
    "confidence_interval_d(X, 0.05)"
   ]
  },
  {
   "cell_type": "markdown",
   "metadata": {},
   "source": [
    "Пункт 3"
   ]
  },
  {
   "cell_type": "code",
   "execution_count": 15,
   "metadata": {
    "collapsed": false
   },
   "outputs": [
    {
     "data": {
      "text/html": [
       "<ol class=list-inline>\n",
       "\t<li>-4.8673714128554</li>\n",
       "\t<li>0.125073959924644</li>\n",
       "</ol>\n"
      ],
      "text/latex": [
       "\\begin{enumerate*}\n",
       "\\item -4.8673714128554\n",
       "\\item 0.125073959924644\n",
       "\\end{enumerate*}\n"
      ],
      "text/markdown": [
       "1. -4.8673714128554\n",
       "2. 0.125073959924644\n",
       "\n",
       "\n"
      ],
      "text/plain": [
       "[1] -4.867371  0.125074"
      ]
     },
     "execution_count": 15,
     "metadata": {},
     "output_type": "execute_result"
    }
   ],
   "source": [
    "confidence_interval_diff <- function(X, Y, alpha, s1=NULL, s2=NULL, deq=FALSE) {\n",
    "    n1 <- length(X)\n",
    "    n2 <- length(Y)\n",
    "    if (is.null(s1) || is.null(s2)) {\n",
    "        if (isTRUE(deq) || hypothesis_check(X, Y, n1, n2)) {\n",
    "            confidence_interval_mdiff_eq(X, Y, n1, n2, alpha)\n",
    "        } else {\n",
    "            confidence_interval_mdiff_neq(X, Y, n1, n2, alpha)\n",
    "        }     \n",
    "    } else {\n",
    "        confidence_interval_mdiff(X, Y, s1, s2, n1, n2, alpha)\n",
    "    }\n",
    "}\n",
    "confidence_interval_diff(X, Y, 0.05)"
   ]
  },
  {
   "cell_type": "code",
   "execution_count": 16,
   "metadata": {
    "collapsed": false
   },
   "outputs": [
    {
     "data": {
      "text/html": [
       "<ol class=list-inline>\n",
       "\t<li>-4.01097224577649</li>\n",
       "\t<li>-0.731325207154265</li>\n",
       "</ol>\n"
      ],
      "text/latex": [
       "\\begin{enumerate*}\n",
       "\\item -4.01097224577649\n",
       "\\item -0.731325207154265\n",
       "\\end{enumerate*}\n"
      ],
      "text/markdown": [
       "1. -4.01097224577649\n",
       "2. -0.731325207154265\n",
       "\n",
       "\n"
      ],
      "text/plain": [
       "[1] -4.0109722 -0.7313252"
      ]
     },
     "execution_count": 16,
     "metadata": {},
     "output_type": "execute_result"
    }
   ],
   "source": [
    "confidence_interval_diff(X, Y, 0.05, sigma1, sigma2)"
   ]
  },
  {
   "cell_type": "code",
   "execution_count": 17,
   "metadata": {
    "collapsed": false
   },
   "outputs": [
    {
     "data": {
      "text/html": [
       "<ol class=list-inline>\n",
       "\t<li>-4.8673714128554</li>\n",
       "\t<li>0.125073959924644</li>\n",
       "</ol>\n"
      ],
      "text/latex": [
       "\\begin{enumerate*}\n",
       "\\item -4.8673714128554\n",
       "\\item 0.125073959924644\n",
       "\\end{enumerate*}\n"
      ],
      "text/markdown": [
       "1. -4.8673714128554\n",
       "2. 0.125073959924644\n",
       "\n",
       "\n"
      ],
      "text/plain": [
       "[1] -4.867371  0.125074"
      ]
     },
     "execution_count": 17,
     "metadata": {},
     "output_type": "execute_result"
    }
   ],
   "source": [
    "confidence_interval_diff(X, Y, 0.05, deq=TRUE)"
   ]
  },
  {
   "cell_type": "code",
   "execution_count": null,
   "metadata": {
    "collapsed": true
   },
   "outputs": [],
   "source": []
  }
 ],
 "metadata": {
  "kernelspec": {
   "display_name": "R",
   "language": "R",
   "name": "ir"
  },
  "language_info": {
   "codemirror_mode": "r",
   "file_extension": ".r",
   "mimetype": "text/x-r-source",
   "name": "R",
   "pygments_lexer": "r",
   "version": "3.2.2"
  }
 },
 "nbformat": 4,
 "nbformat_minor": 0
}
