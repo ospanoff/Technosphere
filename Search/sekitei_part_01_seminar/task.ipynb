{
 "cells": [
  {
   "cell_type": "code",
   "execution_count": 1,
   "metadata": {
    "collapsed": false
   },
   "outputs": [],
   "source": [
    "import re\n",
    "import urlparse"
   ]
  },
  {
   "cell_type": "code",
   "execution_count": 14,
   "metadata": {
    "collapsed": false
   },
   "outputs": [
    {
     "name": "stdout",
     "output_type": "stream",
     "text": [
      "ParseResult(scheme='http', netloc='lenta.ru', path='/news/2013/09/30/mid\\n', params='', query='', fragment='')\n"
     ]
    }
   ],
   "source": [
    "for i, url in enumerate(open('data/urls.lenta.examined')):\n",
    "    print(urlparse.urlparse(url))\n",
    "    break\n",
    "    "
   ]
  },
  {
   "cell_type": "code",
   "execution_count": null,
   "metadata": {
    "collapsed": true
   },
   "outputs": [],
   "source": [
    "def extract_features(INPUT_FILE_1, INPUT_FILE_2, OUTPUT_FILE):\n",
    "    inp1 = open(INPUT_FILE_1)\n",
    "    inp2 = open(INPUT_FILE_2)\n",
    "    out = open(OUTPUT_FILE, 'w')\n",
    "    max_url = 5\n",
    "     = []\n",
    "    for i, url in enumerate(inp1):\n",
    "        if i > max_url:\n",
    "            break\n",
    "            \n",
    "        parse = urlparse.urlparse(url.strip('\\n').strip('/'))\n",
    "        path = parse.path[1:].split('/')\n",
    "        query = parse.query"
   ]
  },
  {
   "cell_type": "code",
   "execution_count": 10,
   "metadata": {
    "collapsed": true
   },
   "outputs": [],
   "source": [
    "url = 'http://google.com/asd'\n",
    "parse = urlparse.urlparse(url)"
   ]
  },
  {
   "cell_type": "code",
   "execution_count": 11,
   "metadata": {
    "collapsed": false
   },
   "outputs": [
    {
     "data": {
      "text/plain": [
       "ParseResult(scheme='http', netloc='google.com', path='/asd', params='', query='', fragment='')"
      ]
     },
     "execution_count": 11,
     "metadata": {},
     "output_type": "execute_result"
    }
   ],
   "source": [
    "parse"
   ]
  },
  {
   "cell_type": "code",
   "execution_count": null,
   "metadata": {
    "collapsed": true
   },
   "outputs": [],
   "source": []
  }
 ],
 "metadata": {
  "kernelspec": {
   "display_name": "Python 2",
   "language": "python",
   "name": "python2"
  },
  "language_info": {
   "codemirror_mode": {
    "name": "ipython",
    "version": 2
   },
   "file_extension": ".py",
   "mimetype": "text/x-python",
   "name": "python",
   "nbconvert_exporter": "python",
   "pygments_lexer": "ipython2",
   "version": "2.7.11"
  }
 },
 "nbformat": 4,
 "nbformat_minor": 0
}
