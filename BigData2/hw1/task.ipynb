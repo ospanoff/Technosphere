{
 "cells": [
  {
   "cell_type": "code",
   "execution_count": 1,
   "metadata": {
    "collapsed": true
   },
   "outputs": [],
   "source": [
    "from sklearn.tree import DecisionTreeClassifier\n",
    "import pandas as pd\n",
    "import numpy as np\n",
    "from scipy.spatial import distance_matrix"
   ]
  },
  {
   "cell_type": "code",
   "execution_count": 2,
   "metadata": {
    "collapsed": true
   },
   "outputs": [],
   "source": [
    "from sklearn.metrics import accuracy_score"
   ]
  },
  {
   "cell_type": "code",
   "execution_count": 3,
   "metadata": {
    "collapsed": true
   },
   "outputs": [],
   "source": [
    "data_train = pd.read_csv('data/spam/spam.train', delimiter=' ', header=None).values\n",
    "data_train, target_train = data_train[:, 1:], data_train[:, 0]\n",
    "data_test = pd.read_csv('data/spam/spam.test', delimiter=' ', header=None).values\n",
    "data_test, target_test = data_test[:, 1:], data_test[:, 0]"
   ]
  },
  {
   "cell_type": "code",
   "execution_count": 4,
   "metadata": {
    "collapsed": false
   },
   "outputs": [],
   "source": [
    "clf = DecisionTreeClassifier(max_depth=3)"
   ]
  },
  {
   "cell_type": "code",
   "execution_count": 5,
   "metadata": {
    "collapsed": false
   },
   "outputs": [
    {
     "data": {
      "text/plain": [
       "DecisionTreeClassifier(class_weight=None, criterion='gini', max_depth=3,\n",
       "            max_features=None, max_leaf_nodes=None, min_samples_leaf=1,\n",
       "            min_samples_split=2, min_weight_fraction_leaf=0.0,\n",
       "            presort=False, random_state=None, splitter='best')"
      ]
     },
     "execution_count": 5,
     "metadata": {},
     "output_type": "execute_result"
    }
   ],
   "source": [
    "clf.fit(data_train, target_train)"
   ]
  },
  {
   "cell_type": "code",
   "execution_count": 6,
   "metadata": {
    "collapsed": false
   },
   "outputs": [
    {
     "data": {
      "text/plain": [
       "3"
      ]
     },
     "execution_count": 6,
     "metadata": {},
     "output_type": "execute_result"
    }
   ],
   "source": [
    "clf.tree_.max_depth"
   ]
  },
  {
   "cell_type": "code",
   "execution_count": 7,
   "metadata": {
    "collapsed": false
   },
   "outputs": [
    {
     "data": {
      "text/plain": [
       "0.75019888623707243"
      ]
     },
     "execution_count": 7,
     "metadata": {},
     "output_type": "execute_result"
    }
   ],
   "source": [
    "# accuracy_score(clf.predict(data_test), target_test)\n",
    "accuracy_score(target_test, clf.predict(data_test))"
   ]
  },
  {
   "cell_type": "markdown",
   "metadata": {},
   "source": [
    "# CART with kNN on leaves"
   ]
  },
  {
   "cell_type": "code",
   "execution_count": 8,
   "metadata": {
    "collapsed": false
   },
   "outputs": [],
   "source": [
    "X = pd.read_csv('data/iris/iris.data', header=None).values"
   ]
  },
  {
   "cell_type": "code",
   "execution_count": 9,
   "metadata": {
    "collapsed": false
   },
   "outputs": [],
   "source": [
    "y = X[:, -1]\n",
    "X = X[:, :-1]"
   ]
  },
  {
   "cell_type": "code",
   "execution_count": 10,
   "metadata": {
    "collapsed": false
   },
   "outputs": [],
   "source": [
    "class Tree(object):\n",
    "    \n",
    "    class Node(object):\n",
    "        def __init__(self, index, splitter):\n",
    "            self.index = index\n",
    "            self.splitter = splitter\n",
    "            self.left = None\n",
    "            self.right = None\n",
    "\n",
    "    def __init__(self):\n",
    "        self.root = self.Node(None, None)\n",
    "        self.depth = 0\n",
    "\n",
    "    def __str__(self):\n",
    "        if self.root is not None:\n",
    "            self._print(self.root)\n",
    "\n",
    "        return ''\n",
    "\n",
    "    def _print(self, node):\n",
    "        self.depth += 1\n",
    "        if node is not None:\n",
    "            print('\\t' * (self.depth - 1), node.index.size, node.splitter)\n",
    "            self._print(node.left)\n",
    "            self._print(node.right)\n",
    "        \n",
    "        self.depth -= 1\n",
    "\n",
    "    def insert(self, data):\n",
    "        if self.root is None:\n",
    "            self.root = self.Node(data)\n",
    "\n",
    "        else:\n",
    "            self._insert(self.root, data)\n",
    "\n",
    "    def _insert(self, node, data):\n",
    "        if node.data < data:\n",
    "            if node.right is None:\n",
    "                node.right = self.Node(data)\n",
    "            else:\n",
    "                self._insert(node.right, data)\n",
    "                \n",
    "        else:\n",
    "            if node.left is None:\n",
    "                node.left = self.Node(data)\n",
    "            else:\n",
    "                self._insert(node.left, data)"
   ]
  },
  {
   "cell_type": "code",
   "execution_count": 26,
   "metadata": {
    "collapsed": false
   },
   "outputs": [],
   "source": [
    "class DecisionTree(Tree):\n",
    "    \n",
    "    def __init__(self, criterion='gini', max_depth=100, min_samples_leaf=1, class_selector='kNN'):\n",
    "        \"\"\"\n",
    "        criterion : string, optional (default=\"gini\")\n",
    "            The function to measure the quality of a split. Supported criteria are\n",
    "            \"gini\" for the Gini impurity and \"entropy\" for the information gain.\n",
    "        \"\"\"\n",
    "        super().__init__()\n",
    "        self.criterion = criterion\n",
    "        self.max_depth = max_depth\n",
    "        self.min_samples_leaf = min_samples_leaf\n",
    "        self.class_selector = class_selector\n",
    "    \n",
    "    def fit(self, X, y):\n",
    "        self.X = X\n",
    "        self.y_orig = y\n",
    "        self.y_indxs = {n: i for i, n in enumerate(sorted(set(y)))}\n",
    "        self.y_names = {i: n for n, i in self.y_indxs.items()}\n",
    "        self.y = np.empty_like(y, dtype=np.int)\n",
    "        for i in range(y.size):\n",
    "            self.y[i] = self.y_indxs[y[i]]\n",
    "\n",
    "        if self.criterion == 'gini':\n",
    "            self._fit(self.root, np.arange(X.shape[0]))\n",
    "\n",
    "#         elif self.criterion == 'entropy':\n",
    "#             self._fit(self.root, np.arange(X.shape[0]), self.entropy)\n",
    "            \n",
    "        else:\n",
    "            return \"Error\"\n",
    "        \n",
    "    def _fit(self, node, index, imp=1):\n",
    "        self.depth += 1\n",
    "        node.index = index\n",
    "        if index.size > self.min_samples_leaf and \\\n",
    "            self.depth < self.max_depth and \\\n",
    "            imp > 1e-5:\n",
    "            min_info = 10000 #2 * self.y.size\n",
    "            for i, j in enumerate(self.X[index].T):\n",
    "                argindx = np.argsort(j)\n",
    "                ys = self.y[index][argindx]\n",
    "                \n",
    "                k = 0\n",
    "                \n",
    "                x_l = np.zeros(len(self.y_names))\n",
    "                x_l[ys[k]] += 1\n",
    "                s_l = np.sum(x_l)\n",
    "                g_l = 0\n",
    "\n",
    "                x_r = np.unique(ys[1:].tolist() + list(self.y_indxs.values()),\n",
    "                                return_counts=True)[1] - 1\n",
    "                s_r = np.sum(x_r)\n",
    "                g_r = 1 - np.sum(x_r ** 2) / (s_r ** 2)\n",
    "                \n",
    "                n_l = 1\n",
    "                n_r = ys.size - n_l\n",
    "                \n",
    "                crit = (n_l * g_l + n_r * g_r) / ys.size\n",
    "                if crit < min_info:\n",
    "                    min_info = crit\n",
    "                    min_g_l = g_l\n",
    "                    min_g_r = g_r\n",
    "                    splitter = (i, j[argindx[k]])\n",
    "\n",
    "                for y in ys[1:-1]:\n",
    "                    k += 1\n",
    "                    \n",
    "                    n_l += 1\n",
    "                    s_l += 1\n",
    "                    x_l[y] += 1\n",
    "                    g_l = 1 - (((s_l - 1) ** 2) * (1 - g_l) + 2 * x_l[y] - 1) / (s_l ** 2)\n",
    "                    \n",
    "                    n_r -= 1\n",
    "                    s_r -= 1\n",
    "                    x_r[y] -= 1\n",
    "                    g_r = 1 - (((s_r + 1) ** 2) * (1 - g_r) - 2 * x_r[y] - 1) / (s_r ** 2)\n",
    "                    \n",
    "                    crit = (n_l * g_l + n_r * g_r) / ys.size\n",
    "                    if crit < min_info:\n",
    "                        min_info = crit\n",
    "                        min_g_l = g_l\n",
    "                        min_g_r = g_r\n",
    "                        splitter = (i, j[argindx[k]])\n",
    "\n",
    "            indL = index[self.X[index, splitter[0]] <= splitter[1]]\n",
    "            indR = index[self.X[index, splitter[0]] > splitter[1]]\n",
    "        \n",
    "            node.splitter = splitter\n",
    "\n",
    "            node.left = self.Node(None, None)\n",
    "            self._fit(node.left, indL, min_g_l)\n",
    "\n",
    "            node.right = self.Node(None, None)\n",
    "            self._fit(node.right, indR, min_g_r)\n",
    "        \n",
    "        self.depth -= 1\n",
    "\n",
    "    def predict(self, X):\n",
    "        y = []\n",
    "        for x in X:\n",
    "            if self.class_selector == 'kNN':\n",
    "                y += [self._predict(x, self.root, self.kNN)]\n",
    "            \n",
    "            elif self.class_selector == 'max':\n",
    "                y += [self._predict(x, self.root, self.maxClass)]\n",
    "            \n",
    "        return np.array(y).ravel()\n",
    "    \n",
    "    def _predict(self, x, node, F):\n",
    "        if node.splitter is None:\n",
    "            return self.y_names[F(node.index, x)]\n",
    "        \n",
    "        if x[node.splitter[0]] <= node.splitter[1]:\n",
    "            return self._predict(x, node.left, F)\n",
    "\n",
    "        else:\n",
    "            return self._predict(x, node.right, F)\n",
    "    \n",
    "    def maxClass(self, index, x):\n",
    "        ys = np.unique(self.y[index], return_counts=True)\n",
    "        return ys[0][ys[1].argmax()]\n",
    "    \n",
    "    def kNN(self, index, x, neighborsNum = 5):\n",
    "        \"\"\"\n",
    "            index: numpy.ndarray - Nx1, leaf data index\n",
    "            x: float64, predict data\n",
    "            neighborsNum: number of neighbors\n",
    "        \"\"\"\n",
    "        x = np.array([x])\n",
    "        dist = distance_matrix(x, self.X[index])\n",
    "            \n",
    "        knn = self.y[index][dist.argsort(axis=1)[:, :neighborsNum]]\n",
    "        ret = []\n",
    "        for n in knn:\n",
    "            tmp = np.unique(n, return_counts=True)\n",
    "            ret += [tmp[0][tmp[1].argmax()]]\n",
    "        \n",
    "        return ret[0]"
   ]
  },
  {
   "cell_type": "code",
   "execution_count": 27,
   "metadata": {
    "collapsed": false
   },
   "outputs": [],
   "source": [
    "clf = DecisionTree(max_depth=3)"
   ]
  },
  {
   "cell_type": "code",
   "execution_count": 18,
   "metadata": {
    "collapsed": false
   },
   "outputs": [
    {
     "name": "stdout",
     "output_type": "stream",
     "text": [
      "CPU times: user 20.2 ms, sys: 1.32 ms, total: 21.5 ms\n",
      "Wall time: 20.6 ms\n"
     ]
    }
   ],
   "source": [
    "%time clf.fit(X, y)"
   ]
  },
  {
   "cell_type": "code",
   "execution_count": 19,
   "metadata": {
    "collapsed": false
   },
   "outputs": [
    {
     "name": "stdout",
     "output_type": "stream",
     "text": [
      " 150 (2, 1.9)\n",
      "\t 50 None\n",
      "\t 100 (3, 1.7)\n",
      "\t\t 54 (2, 4.9)\n",
      "\t\t\t 48 (0, 4.9)\n",
      "\t\t\t\t 2 None\n",
      "\t\t\t\t 46 None\n",
      "\t\t\t 6 (2, 5.1)\n",
      "\t\t\t\t 4 (3, 1.5)\n",
      "\t\t\t\t\t 2 None\n",
      "\t\t\t\t\t 2 None\n",
      "\t\t\t\t 2 None\n",
      "\t\t 46 (2, 4.8)\n",
      "\t\t\t 3 None\n",
      "\t\t\t 43 None\n",
      "\n"
     ]
    }
   ],
   "source": [
    "print(clf)"
   ]
  },
  {
   "cell_type": "code",
   "execution_count": 20,
   "metadata": {
    "collapsed": false
   },
   "outputs": [],
   "source": [
    "pred = clf.predict(X)"
   ]
  },
  {
   "cell_type": "code",
   "execution_count": 21,
   "metadata": {
    "collapsed": false
   },
   "outputs": [
    {
     "data": {
      "text/plain": [
       "0.98666666666666669"
      ]
     },
     "execution_count": 21,
     "metadata": {},
     "output_type": "execute_result"
    }
   ],
   "source": [
    "accuracy_score(pred, y)"
   ]
  },
  {
   "cell_type": "code",
   "execution_count": 28,
   "metadata": {
    "collapsed": false
   },
   "outputs": [
    {
     "name": "stdout",
     "output_type": "stream",
     "text": [
      "CPU times: user 14.3 s, sys: 166 ms, total: 14.4 s\n",
      "Wall time: 14.6 s\n"
     ]
    }
   ],
   "source": [
    "%time clf.fit(data_train, target_train)"
   ]
  },
  {
   "cell_type": "code",
   "execution_count": 29,
   "metadata": {
    "collapsed": true
   },
   "outputs": [],
   "source": [
    "pred = clf.predict(data_test)"
   ]
  },
  {
   "cell_type": "code",
   "execution_count": 30,
   "metadata": {
    "collapsed": false
   },
   "outputs": [
    {
     "data": {
      "text/plain": [
       "0.86863564041368335"
      ]
     },
     "execution_count": 30,
     "metadata": {},
     "output_type": "execute_result"
    }
   ],
   "source": [
    "accuracy_score(target_test, pred)"
   ]
  },
  {
   "cell_type": "code",
   "execution_count": null,
   "metadata": {
    "collapsed": true
   },
   "outputs": [],
   "source": []
  }
 ],
 "metadata": {
  "kernelspec": {
   "display_name": "Python 3",
   "language": "python",
   "name": "python3"
  },
  "language_info": {
   "codemirror_mode": {
    "name": "ipython",
    "version": 3
   },
   "file_extension": ".py",
   "mimetype": "text/x-python",
   "name": "python",
   "nbconvert_exporter": "python",
   "pygments_lexer": "ipython3",
   "version": "3.5.1"
  }
 },
 "nbformat": 4,
 "nbformat_minor": 0
}
